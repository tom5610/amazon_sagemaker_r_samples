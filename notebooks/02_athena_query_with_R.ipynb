{
 "cells": [
  {
   "cell_type": "code",
   "execution_count": 1,
   "id": "eab8fb16",
   "metadata": {},
   "outputs": [],
   "source": [
    "# Turn warnings off globally\n",
    "options(warn=-1)"
   ]
  },
  {
   "cell_type": "code",
   "execution_count": 2,
   "id": "496c79f7",
   "metadata": {},
   "outputs": [],
   "source": [
    "# Install reticulate library and import sagemaker\n",
    "library(reticulate)\n",
    "library(readr)\n",
    "\n",
    "sagemaker <- import('sagemaker')\n",
    "boto3 <- import('boto3')"
   ]
  },
  {
   "cell_type": "code",
   "execution_count": 3,
   "id": "75deaaf9",
   "metadata": {},
   "outputs": [],
   "source": [
    "session <- sagemaker$Session()\n",
    "bucket <- session$default_bucket()"
   ]
  },
  {
   "cell_type": "code",
   "execution_count": 4,
   "id": "747f0fd2",
   "metadata": {},
   "outputs": [],
   "source": [
    "s3 <- boto3$client('s3')"
   ]
  },
  {
   "cell_type": "code",
   "execution_count": 5,
   "id": "1fd27e5a",
   "metadata": {},
   "outputs": [
    {
     "name": "stdout",
     "output_type": "stream",
     "text": [
      "[1] \"s3://sagemaker-ap-southeast-2-153805901131/athena/results/\"\n"
     ]
    }
   ],
   "source": [
    "s3_dest = paste('s3://', bucket, '/athena/results/', sep='')\n",
    "athena_query = \"SELECT * FROM directmarketing\"\n",
    "\n",
    "print(s3_dest)"
   ]
  },
  {
   "cell_type": "code",
   "execution_count": 6,
   "id": "6c08aca9",
   "metadata": {},
   "outputs": [],
   "source": [
    "source_python(\"utils.py\")\n",
    "results_uri <- execute_athena_query(athena_query, bucket)"
   ]
  },
  {
   "cell_type": "code",
   "execution_count": 7,
   "id": "bf95d32c",
   "metadata": {},
   "outputs": [
    {
     "name": "stdout",
     "output_type": "stream",
     "text": [
      "[1] \"s3://sagemaker-ap-southeast-2-153805901131/athena/results/4cdd3fd9-5ab5-4557-b581-92bfe9445cd6.csv\"\n"
     ]
    }
   ],
   "source": [
    "print(results_uri)"
   ]
  },
  {
   "cell_type": "code",
   "execution_count": 8,
   "id": "3ae9eaab",
   "metadata": {},
   "outputs": [],
   "source": [
    "key = \"athena/results/4cdd3fd9-5ab5-4557-b581-92bfe9445cd6.csv\"\n",
    "s3$download_file(bucket, key, \"./result.csv\")"
   ]
  },
  {
   "cell_type": "code",
   "execution_count": 9,
   "id": "57801afd",
   "metadata": {},
   "outputs": [
    {
     "name": "stderr",
     "output_type": "stream",
     "text": [
      "\n",
      "\u001b[36m──\u001b[39m \u001b[1m\u001b[1mColumn specification\u001b[1m\u001b[22m \u001b[36m────────────────────────────────────────────────────────\u001b[39m\n",
      "cols(\n",
      "  .default = col_character(),\n",
      "  age = \u001b[32mcol_double()\u001b[39m,\n",
      "  duration = \u001b[32mcol_double()\u001b[39m,\n",
      "  campaign = \u001b[32mcol_double()\u001b[39m,\n",
      "  pdays = \u001b[32mcol_double()\u001b[39m,\n",
      "  previous = \u001b[32mcol_double()\u001b[39m,\n",
      "  emp.var.rate = \u001b[32mcol_double()\u001b[39m,\n",
      "  cons.price.idx = \u001b[32mcol_double()\u001b[39m,\n",
      "  cons.conf.idx = \u001b[32mcol_double()\u001b[39m,\n",
      "  euribor3m = \u001b[32mcol_double()\u001b[39m,\n",
      "  nr.employed = \u001b[32mcol_double()\u001b[39m\n",
      ")\n",
      "\u001b[36mℹ\u001b[39m Use \u001b[30m\u001b[47m\u001b[30m\u001b[47m`spec()`\u001b[47m\u001b[30m\u001b[49m\u001b[39m for the full column specifications.\n",
      "\n",
      "\n"
     ]
    },
    {
     "data": {
      "text/html": [
       "<table class=\"dataframe\">\n",
       "<caption>A tibble: 6 × 21</caption>\n",
       "<thead>\n",
       "\t<tr><th scope=col>age</th><th scope=col>job</th><th scope=col>marital</th><th scope=col>education</th><th scope=col>default</th><th scope=col>housing</th><th scope=col>loan</th><th scope=col>contact</th><th scope=col>month</th><th scope=col>day_of_week</th><th scope=col>⋯</th><th scope=col>campaign</th><th scope=col>pdays</th><th scope=col>previous</th><th scope=col>poutcome</th><th scope=col>emp.var.rate</th><th scope=col>cons.price.idx</th><th scope=col>cons.conf.idx</th><th scope=col>euribor3m</th><th scope=col>nr.employed</th><th scope=col>y</th></tr>\n",
       "\t<tr><th scope=col>&lt;dbl&gt;</th><th scope=col>&lt;chr&gt;</th><th scope=col>&lt;chr&gt;</th><th scope=col>&lt;chr&gt;</th><th scope=col>&lt;chr&gt;</th><th scope=col>&lt;chr&gt;</th><th scope=col>&lt;chr&gt;</th><th scope=col>&lt;chr&gt;</th><th scope=col>&lt;chr&gt;</th><th scope=col>&lt;chr&gt;</th><th scope=col>⋯</th><th scope=col>&lt;dbl&gt;</th><th scope=col>&lt;dbl&gt;</th><th scope=col>&lt;dbl&gt;</th><th scope=col>&lt;chr&gt;</th><th scope=col>&lt;dbl&gt;</th><th scope=col>&lt;dbl&gt;</th><th scope=col>&lt;dbl&gt;</th><th scope=col>&lt;dbl&gt;</th><th scope=col>&lt;dbl&gt;</th><th scope=col>&lt;chr&gt;</th></tr>\n",
       "</thead>\n",
       "<tbody>\n",
       "\t<tr><td>56</td><td>housemaid</td><td>married</td><td>basic.4y   </td><td>no     </td><td>no </td><td>no </td><td>telephone</td><td>may</td><td>mon</td><td>⋯</td><td>1</td><td>999</td><td>0</td><td>nonexistent</td><td>1.1</td><td>93.994</td><td>-36.4</td><td>4.857</td><td>5191</td><td>no</td></tr>\n",
       "\t<tr><td>57</td><td>services </td><td>married</td><td>high.school</td><td>unknown</td><td>no </td><td>no </td><td>telephone</td><td>may</td><td>mon</td><td>⋯</td><td>1</td><td>999</td><td>0</td><td>nonexistent</td><td>1.1</td><td>93.994</td><td>-36.4</td><td>4.857</td><td>5191</td><td>no</td></tr>\n",
       "\t<tr><td>37</td><td>services </td><td>married</td><td>high.school</td><td>no     </td><td>yes</td><td>no </td><td>telephone</td><td>may</td><td>mon</td><td>⋯</td><td>1</td><td>999</td><td>0</td><td>nonexistent</td><td>1.1</td><td>93.994</td><td>-36.4</td><td>4.857</td><td>5191</td><td>no</td></tr>\n",
       "\t<tr><td>40</td><td>admin.   </td><td>married</td><td>basic.6y   </td><td>no     </td><td>no </td><td>no </td><td>telephone</td><td>may</td><td>mon</td><td>⋯</td><td>1</td><td>999</td><td>0</td><td>nonexistent</td><td>1.1</td><td>93.994</td><td>-36.4</td><td>4.857</td><td>5191</td><td>no</td></tr>\n",
       "\t<tr><td>56</td><td>services </td><td>married</td><td>high.school</td><td>no     </td><td>no </td><td>yes</td><td>telephone</td><td>may</td><td>mon</td><td>⋯</td><td>1</td><td>999</td><td>0</td><td>nonexistent</td><td>1.1</td><td>93.994</td><td>-36.4</td><td>4.857</td><td>5191</td><td>no</td></tr>\n",
       "\t<tr><td>45</td><td>services </td><td>married</td><td>basic.9y   </td><td>unknown</td><td>no </td><td>no </td><td>telephone</td><td>may</td><td>mon</td><td>⋯</td><td>1</td><td>999</td><td>0</td><td>nonexistent</td><td>1.1</td><td>93.994</td><td>-36.4</td><td>4.857</td><td>5191</td><td>no</td></tr>\n",
       "</tbody>\n",
       "</table>\n"
      ],
      "text/latex": [
       "A tibble: 6 × 21\n",
       "\\begin{tabular}{lllllllllllllllllllll}\n",
       " age & job & marital & education & default & housing & loan & contact & month & day\\_of\\_week & ⋯ & campaign & pdays & previous & poutcome & emp.var.rate & cons.price.idx & cons.conf.idx & euribor3m & nr.employed & y\\\\\n",
       " <dbl> & <chr> & <chr> & <chr> & <chr> & <chr> & <chr> & <chr> & <chr> & <chr> & ⋯ & <dbl> & <dbl> & <dbl> & <chr> & <dbl> & <dbl> & <dbl> & <dbl> & <dbl> & <chr>\\\\\n",
       "\\hline\n",
       "\t 56 & housemaid & married & basic.4y    & no      & no  & no  & telephone & may & mon & ⋯ & 1 & 999 & 0 & nonexistent & 1.1 & 93.994 & -36.4 & 4.857 & 5191 & no\\\\\n",
       "\t 57 & services  & married & high.school & unknown & no  & no  & telephone & may & mon & ⋯ & 1 & 999 & 0 & nonexistent & 1.1 & 93.994 & -36.4 & 4.857 & 5191 & no\\\\\n",
       "\t 37 & services  & married & high.school & no      & yes & no  & telephone & may & mon & ⋯ & 1 & 999 & 0 & nonexistent & 1.1 & 93.994 & -36.4 & 4.857 & 5191 & no\\\\\n",
       "\t 40 & admin.    & married & basic.6y    & no      & no  & no  & telephone & may & mon & ⋯ & 1 & 999 & 0 & nonexistent & 1.1 & 93.994 & -36.4 & 4.857 & 5191 & no\\\\\n",
       "\t 56 & services  & married & high.school & no      & no  & yes & telephone & may & mon & ⋯ & 1 & 999 & 0 & nonexistent & 1.1 & 93.994 & -36.4 & 4.857 & 5191 & no\\\\\n",
       "\t 45 & services  & married & basic.9y    & unknown & no  & no  & telephone & may & mon & ⋯ & 1 & 999 & 0 & nonexistent & 1.1 & 93.994 & -36.4 & 4.857 & 5191 & no\\\\\n",
       "\\end{tabular}\n"
      ],
      "text/markdown": [
       "\n",
       "A tibble: 6 × 21\n",
       "\n",
       "| age &lt;dbl&gt; | job &lt;chr&gt; | marital &lt;chr&gt; | education &lt;chr&gt; | default &lt;chr&gt; | housing &lt;chr&gt; | loan &lt;chr&gt; | contact &lt;chr&gt; | month &lt;chr&gt; | day_of_week &lt;chr&gt; | ⋯ ⋯ | campaign &lt;dbl&gt; | pdays &lt;dbl&gt; | previous &lt;dbl&gt; | poutcome &lt;chr&gt; | emp.var.rate &lt;dbl&gt; | cons.price.idx &lt;dbl&gt; | cons.conf.idx &lt;dbl&gt; | euribor3m &lt;dbl&gt; | nr.employed &lt;dbl&gt; | y &lt;chr&gt; |\n",
       "|---|---|---|---|---|---|---|---|---|---|---|---|---|---|---|---|---|---|---|---|---|\n",
       "| 56 | housemaid | married | basic.4y    | no      | no  | no  | telephone | may | mon | ⋯ | 1 | 999 | 0 | nonexistent | 1.1 | 93.994 | -36.4 | 4.857 | 5191 | no |\n",
       "| 57 | services  | married | high.school | unknown | no  | no  | telephone | may | mon | ⋯ | 1 | 999 | 0 | nonexistent | 1.1 | 93.994 | -36.4 | 4.857 | 5191 | no |\n",
       "| 37 | services  | married | high.school | no      | yes | no  | telephone | may | mon | ⋯ | 1 | 999 | 0 | nonexistent | 1.1 | 93.994 | -36.4 | 4.857 | 5191 | no |\n",
       "| 40 | admin.    | married | basic.6y    | no      | no  | no  | telephone | may | mon | ⋯ | 1 | 999 | 0 | nonexistent | 1.1 | 93.994 | -36.4 | 4.857 | 5191 | no |\n",
       "| 56 | services  | married | high.school | no      | no  | yes | telephone | may | mon | ⋯ | 1 | 999 | 0 | nonexistent | 1.1 | 93.994 | -36.4 | 4.857 | 5191 | no |\n",
       "| 45 | services  | married | basic.9y    | unknown | no  | no  | telephone | may | mon | ⋯ | 1 | 999 | 0 | nonexistent | 1.1 | 93.994 | -36.4 | 4.857 | 5191 | no |\n",
       "\n"
      ],
      "text/plain": [
       "  age job       marital education   default housing loan contact   month\n",
       "1 56  housemaid married basic.4y    no      no      no   telephone may  \n",
       "2 57  services  married high.school unknown no      no   telephone may  \n",
       "3 37  services  married high.school no      yes     no   telephone may  \n",
       "4 40  admin.    married basic.6y    no      no      no   telephone may  \n",
       "5 56  services  married high.school no      no      yes  telephone may  \n",
       "6 45  services  married basic.9y    unknown no      no   telephone may  \n",
       "  day_of_week ⋯ campaign pdays previous poutcome    emp.var.rate cons.price.idx\n",
       "1 mon         ⋯ 1        999   0        nonexistent 1.1          93.994        \n",
       "2 mon         ⋯ 1        999   0        nonexistent 1.1          93.994        \n",
       "3 mon         ⋯ 1        999   0        nonexistent 1.1          93.994        \n",
       "4 mon         ⋯ 1        999   0        nonexistent 1.1          93.994        \n",
       "5 mon         ⋯ 1        999   0        nonexistent 1.1          93.994        \n",
       "6 mon         ⋯ 1        999   0        nonexistent 1.1          93.994        \n",
       "  cons.conf.idx euribor3m nr.employed y \n",
       "1 -36.4         4.857     5191        no\n",
       "2 -36.4         4.857     5191        no\n",
       "3 -36.4         4.857     5191        no\n",
       "4 -36.4         4.857     5191        no\n",
       "5 -36.4         4.857     5191        no\n",
       "6 -36.4         4.857     5191        no"
      ]
     },
     "metadata": {},
     "output_type": "display_data"
    }
   ],
   "source": [
    "# read file\n",
    "directmarketing <- read_csv(file = \"./result.csv\", col_names = TRUE)\n",
    "head(directmarketing)"
   ]
  },
  {
   "cell_type": "markdown",
   "id": "4194ffa2",
   "metadata": {},
   "source": [
    "## using boto3 directly"
   ]
  },
  {
   "cell_type": "code",
   "execution_count": 10,
   "id": "6acbc1ed",
   "metadata": {},
   "outputs": [],
   "source": [
    "athena <- boto3$client('athena')"
   ]
  },
  {
   "cell_type": "code",
   "execution_count": 11,
   "id": "a73e779f",
   "metadata": {},
   "outputs": [],
   "source": [
    "output_location <- list('OutputLocation' = s3_dest)"
   ]
  },
  {
   "cell_type": "code",
   "execution_count": 12,
   "id": "a745f777",
   "metadata": {},
   "outputs": [],
   "source": [
    "athena_query = \"select age, job, education, y from directmarketing\""
   ]
  },
  {
   "cell_type": "code",
   "execution_count": 13,
   "id": "e4520a90",
   "metadata": {},
   "outputs": [],
   "source": [
    "query_id = athena$start_query_execution(\n",
    "    QueryString= athena_query, \n",
    "    ResultConfiguration=output_location\n",
    ")['QueryExecutionId']"
   ]
  },
  {
   "cell_type": "code",
   "execution_count": 14,
   "id": "eb1313fe",
   "metadata": {},
   "outputs": [
    {
     "data": {
      "text/html": [
       "'s3://sagemaker-ap-southeast-2-153805901131/athena/results/1652d40d-95a6-469d-bf93-b88f7aae48a0.csv'"
      ],
      "text/latex": [
       "'s3://sagemaker-ap-southeast-2-153805901131/athena/results/1652d40d-95a6-469d-bf93-b88f7aae48a0.csv'"
      ],
      "text/markdown": [
       "'s3://sagemaker-ap-southeast-2-153805901131/athena/results/1652d40d-95a6-469d-bf93-b88f7aae48a0.csv'"
      ],
      "text/plain": [
       "[1] \"s3://sagemaker-ap-southeast-2-153805901131/athena/results/1652d40d-95a6-469d-bf93-b88f7aae48a0.csv\""
      ]
     },
     "metadata": {},
     "output_type": "display_data"
    }
   ],
   "source": [
    "result_uri = paste(s3_dest, query_id, '.csv', sep=\"\")\n",
    "result_uri"
   ]
  },
  {
   "cell_type": "code",
   "execution_count": 15,
   "id": "875d5eec",
   "metadata": {},
   "outputs": [],
   "source": [
    "key = \"athena/results/1652d40d-95a6-469d-bf93-b88f7aae48a0.csv\"\n",
    "s3$download_file(bucket, key, \"./result3.csv\")"
   ]
  },
  {
   "cell_type": "code",
   "execution_count": 16,
   "id": "8116caf1",
   "metadata": {},
   "outputs": [
    {
     "name": "stderr",
     "output_type": "stream",
     "text": [
      "\n",
      "\u001b[36m──\u001b[39m \u001b[1m\u001b[1mColumn specification\u001b[1m\u001b[22m \u001b[36m────────────────────────────────────────────────────────\u001b[39m\n",
      "cols(\n",
      "  age = \u001b[32mcol_double()\u001b[39m,\n",
      "  job = \u001b[31mcol_character()\u001b[39m,\n",
      "  education = \u001b[31mcol_character()\u001b[39m,\n",
      "  y = \u001b[31mcol_character()\u001b[39m\n",
      ")\n",
      "\n",
      "\n"
     ]
    },
    {
     "data": {
      "text/html": [
       "<table class=\"dataframe\">\n",
       "<caption>A tibble: 6 × 4</caption>\n",
       "<thead>\n",
       "\t<tr><th scope=col>age</th><th scope=col>job</th><th scope=col>education</th><th scope=col>y</th></tr>\n",
       "\t<tr><th scope=col>&lt;dbl&gt;</th><th scope=col>&lt;chr&gt;</th><th scope=col>&lt;chr&gt;</th><th scope=col>&lt;chr&gt;</th></tr>\n",
       "</thead>\n",
       "<tbody>\n",
       "\t<tr><td>56</td><td>housemaid</td><td>basic.4y   </td><td>no</td></tr>\n",
       "\t<tr><td>57</td><td>services </td><td>high.school</td><td>no</td></tr>\n",
       "\t<tr><td>37</td><td>services </td><td>high.school</td><td>no</td></tr>\n",
       "\t<tr><td>40</td><td>admin.   </td><td>basic.6y   </td><td>no</td></tr>\n",
       "\t<tr><td>56</td><td>services </td><td>high.school</td><td>no</td></tr>\n",
       "\t<tr><td>45</td><td>services </td><td>basic.9y   </td><td>no</td></tr>\n",
       "</tbody>\n",
       "</table>\n"
      ],
      "text/latex": [
       "A tibble: 6 × 4\n",
       "\\begin{tabular}{llll}\n",
       " age & job & education & y\\\\\n",
       " <dbl> & <chr> & <chr> & <chr>\\\\\n",
       "\\hline\n",
       "\t 56 & housemaid & basic.4y    & no\\\\\n",
       "\t 57 & services  & high.school & no\\\\\n",
       "\t 37 & services  & high.school & no\\\\\n",
       "\t 40 & admin.    & basic.6y    & no\\\\\n",
       "\t 56 & services  & high.school & no\\\\\n",
       "\t 45 & services  & basic.9y    & no\\\\\n",
       "\\end{tabular}\n"
      ],
      "text/markdown": [
       "\n",
       "A tibble: 6 × 4\n",
       "\n",
       "| age &lt;dbl&gt; | job &lt;chr&gt; | education &lt;chr&gt; | y &lt;chr&gt; |\n",
       "|---|---|---|---|\n",
       "| 56 | housemaid | basic.4y    | no |\n",
       "| 57 | services  | high.school | no |\n",
       "| 37 | services  | high.school | no |\n",
       "| 40 | admin.    | basic.6y    | no |\n",
       "| 56 | services  | high.school | no |\n",
       "| 45 | services  | basic.9y    | no |\n",
       "\n"
      ],
      "text/plain": [
       "  age job       education   y \n",
       "1 56  housemaid basic.4y    no\n",
       "2 57  services  high.school no\n",
       "3 37  services  high.school no\n",
       "4 40  admin.    basic.6y    no\n",
       "5 56  services  high.school no\n",
       "6 45  services  basic.9y    no"
      ]
     },
     "metadata": {},
     "output_type": "display_data"
    }
   ],
   "source": [
    "# read file\n",
    "directmarketing <- read_csv(file = \"./result3.csv\", col_names = TRUE)\n",
    "head(directmarketing)"
   ]
  },
  {
   "cell_type": "code",
   "execution_count": 2,
   "id": "f1b505c2",
   "metadata": {},
   "outputs": [
    {
     "name": "stderr",
     "output_type": "stream",
     "text": [
      "also installing the dependencies ‘webutils’, ‘sodium’, ‘swagger’\n",
      "\n",
      "\n",
      "Updating HTML index of packages in '.Library'\n",
      "\n",
      "Making 'packages.html' ...\n",
      " done\n",
      "\n"
     ]
    }
   ],
   "source": [
    "install.packages(c('plumber'), repos='https://cloud.r-project.org')"
   ]
  },
  {
   "cell_type": "code",
   "execution_count": 4,
   "id": "58107862",
   "metadata": {},
   "outputs": [],
   "source": [
    "library(plumber)"
   ]
  },
  {
   "cell_type": "code",
   "execution_count": 5,
   "id": "2ff7647c",
   "metadata": {},
   "outputs": [
    {
     "name": "stdout",
     "output_type": "stream",
     "text": [
      " [1] \"bmp\"         \"cat\"         \"contentType\" \"csv\"         \"device\"     \n",
      " [6] \"feather\"     \"format\"      \"html\"        \"htmlwidget\"  \"jpeg\"       \n",
      "[11] \"json\"        \"null\"        \"pdf\"         \"png\"         \"print\"      \n",
      "[16] \"rds\"         \"svg\"         \"text\"        \"tiff\"        \"tsv\"        \n",
      "[21] \"unboxedJSON\" \"yaml\"       \n"
     ]
    }
   ],
   "source": [
    "print(registered_serializers())"
   ]
  },
  {
   "cell_type": "code",
   "execution_count": 6,
   "id": "c8f95746",
   "metadata": {},
   "outputs": [
    {
     "name": "stdout",
     "output_type": "stream",
     "text": [
      "function (..., type = \"text/csv; charset=UTF-8\") \n",
      "{\n",
      "    if (!requireNamespace(\"readr\", quietly = TRUE)) {\n",
      "        stop(\"`readr` must be installed for `serializer_csv` to work\")\n",
      "    }\n",
      "    serializer_content_type(type, function(val) {\n",
      "        readr::format_csv(val, ...)\n",
      "    })\n",
      "}\n",
      "<bytecode: 0x557ae59e5e60>\n",
      "<environment: namespace:plumber>\n"
     ]
    }
   ],
   "source": [
    "print(serializer_csv)"
   ]
  },
  {
   "cell_type": "code",
   "execution_count": 7,
   "id": "a5500787",
   "metadata": {},
   "outputs": [
    {
     "data": {
      "text/html": [
       "<pre class=language-r><code>function (val, req, res, errorHandler) \n",
       "{\n",
       "<span style=white-space:pre-wrap>    tryCatch({</span>\n",
       "<span style=white-space:pre-wrap>        if (inherits(val, \"plumber_attachment\")) {</span>\n",
       "<span style=white-space:pre-wrap>            if (!is.null(headers[[\"Content-Type\"]])) {</span>\n",
       "<span style=white-space:pre-wrap>                if (is.null(headers[[\"Content-Disposition\"]])) {</span>\n",
       "<span style=white-space:pre-wrap>                  headers[[\"Content-Disposition\"]] &lt;- if (is.null(val$filename)) {</span>\n",
       "<span style=white-space:pre-wrap>                    \"attachment\"</span>\n",
       "<span style=white-space:pre-wrap>                  }</span>\n",
       "<span style=white-space:pre-wrap>                  else {</span>\n",
       "<span style=white-space:pre-wrap>                    filename &lt;- basename(val$filename)</span>\n",
       "<span style=white-space:pre-wrap>                    if (stri_detect_fixed(filename, \"\\\"\") || </span>\n",
       "<span style=white-space:pre-wrap>                      stri_detect_fixed(filename, \"'\")) {</span>\n",
       "<span style=white-space:pre-wrap>                      stop(\"`filename` may not contain quotes\")</span>\n",
       "<span style=white-space:pre-wrap>                    }</span>\n",
       "<span style=white-space:pre-wrap>                    paste0(\"attachment; filename=\\\"\", filename, </span>\n",
       "<span style=white-space:pre-wrap>                      \"\\\"\")</span>\n",
       "<span style=white-space:pre-wrap>                  }</span>\n",
       "<span style=white-space:pre-wrap>                }</span>\n",
       "<span style=white-space:pre-wrap>            }</span>\n",
       "<span style=white-space:pre-wrap>            val &lt;- val$value</span>\n",
       "<span style=white-space:pre-wrap>        }</span>\n",
       "<span style=white-space:pre-wrap>        Map(names(headers), headers, f = function(header, header_val) {</span>\n",
       "<span style=white-space:pre-wrap>            res$setHeader(header, header_val)</span>\n",
       "<span style=white-space:pre-wrap>        })</span>\n",
       "<span style=white-space:pre-wrap>        val &lt;- serialize_fn(val)</span>\n",
       "<span style=white-space:pre-wrap>        serializer_identity_(val, req, res, errorHandler)</span>\n",
       "<span style=white-space:pre-wrap>    }, error = function(err) {</span>\n",
       "<span style=white-space:pre-wrap>        errorHandler(req, res, err)</span>\n",
       "<span style=white-space:pre-wrap>    })</span>\n",
       "}</code></pre>"
      ],
      "text/latex": [
       "\\begin{minted}{r}\n",
       "function (val, req, res, errorHandler) \n",
       "\\{\n",
       "    tryCatch(\\{\n",
       "        if (inherits(val, \"plumber\\_attachment\")) \\{\n",
       "            if (!is.null(headers{[}{[}\"Content-Type\"{]}{]})) \\{\n",
       "                if (is.null(headers{[}{[}\"Content-Disposition\"{]}{]})) \\{\n",
       "                  headers{[}{[}\"Content-Disposition\"{]}{]} <- if (is.null(val\\$filename)) \\{\n",
       "                    \"attachment\"\n",
       "                  \\}\n",
       "                  else \\{\n",
       "                    filename <- basename(val\\$filename)\n",
       "                    if (stri\\_detect\\_fixed(filename, \"\\textbackslash{}\"\") \\textbar{}\\textbar{} \n",
       "                      stri\\_detect\\_fixed(filename, \"'\")) \\{\n",
       "                      stop(\"`filename` may not contain quotes\")\n",
       "                    \\}\n",
       "                    paste0(\"attachment; filename=\\textbackslash{}\"\", filename, \n",
       "                      \"\\textbackslash{}\"\")\n",
       "                  \\}\n",
       "                \\}\n",
       "            \\}\n",
       "            val <- val\\$value\n",
       "        \\}\n",
       "        Map(names(headers), headers, f = function(header, header\\_val) \\{\n",
       "            res\\$setHeader(header, header\\_val)\n",
       "        \\})\n",
       "        val <- serialize\\_fn(val)\n",
       "        serializer\\_identity\\_(val, req, res, errorHandler)\n",
       "    \\}, error = function(err) \\{\n",
       "        errorHandler(req, res, err)\n",
       "    \\})\n",
       "\\}\n",
       "\\end{minted}"
      ],
      "text/markdown": [
       "```r\n",
       "function (val, req, res, errorHandler) \n",
       "{\n",
       "    tryCatch({\n",
       "        if (inherits(val, \"plumber_attachment\")) {\n",
       "            if (!is.null(headers[[\"Content-Type\"]])) {\n",
       "                if (is.null(headers[[\"Content-Disposition\"]])) {\n",
       "                  headers[[\"Content-Disposition\"]] <- if (is.null(val$filename)) {\n",
       "                    \"attachment\"\n",
       "                  }\n",
       "                  else {\n",
       "                    filename <- basename(val$filename)\n",
       "                    if (stri_detect_fixed(filename, \"\\\"\") || \n",
       "                      stri_detect_fixed(filename, \"'\")) {\n",
       "                      stop(\"`filename` may not contain quotes\")\n",
       "                    }\n",
       "                    paste0(\"attachment; filename=\\\"\", filename, \n",
       "                      \"\\\"\")\n",
       "                  }\n",
       "                }\n",
       "            }\n",
       "            val <- val$value\n",
       "        }\n",
       "        Map(names(headers), headers, f = function(header, header_val) {\n",
       "            res$setHeader(header, header_val)\n",
       "        })\n",
       "        val <- serialize_fn(val)\n",
       "        serializer_identity_(val, req, res, errorHandler)\n",
       "    }, error = function(err) {\n",
       "        errorHandler(req, res, err)\n",
       "    })\n",
       "}\n",
       "```"
      ],
      "text/plain": [
       "function (val, req, res, errorHandler) \n",
       "{\n",
       "    tryCatch({\n",
       "        if (inherits(val, \"plumber_attachment\")) {\n",
       "            if (!is.null(headers[[\"Content-Type\"]])) {\n",
       "                if (is.null(headers[[\"Content-Disposition\"]])) {\n",
       "                  headers[[\"Content-Disposition\"]] <- if (is.null(val$filename)) {\n",
       "                    \"attachment\"\n",
       "                  }\n",
       "                  else {\n",
       "                    filename <- basename(val$filename)\n",
       "                    if (stri_detect_fixed(filename, \"\\\"\") || \n",
       "                      stri_detect_fixed(filename, \"'\")) {\n",
       "                      stop(\"`filename` may not contain quotes\")\n",
       "                    }\n",
       "                    paste0(\"attachment; filename=\\\"\", filename, \n",
       "                      \"\\\"\")\n",
       "                  }\n",
       "                }\n",
       "            }\n",
       "            val <- val$value\n",
       "        }\n",
       "        Map(names(headers), headers, f = function(header, header_val) {\n",
       "            res$setHeader(header, header_val)\n",
       "        })\n",
       "        val <- serialize_fn(val)\n",
       "        serializer_identity_(val, req, res, errorHandler)\n",
       "    }, error = function(err) {\n",
       "        errorHandler(req, res, err)\n",
       "    })\n",
       "}\n",
       "<bytecode: 0x557ae63bf780>\n",
       "<environment: 0x557ae63c6350>"
      ]
     },
     "metadata": {},
     "output_type": "display_data"
    }
   ],
   "source": [
    "serializer_csv()"
   ]
  },
  {
   "cell_type": "code",
   "execution_count": null,
   "id": "c039d3e2",
   "metadata": {},
   "outputs": [],
   "source": []
  }
 ],
 "metadata": {
  "kernelspec": {
   "display_name": "R",
   "language": "R",
   "name": "ir"
  },
  "language_info": {
   "codemirror_mode": "r",
   "file_extension": ".r",
   "mimetype": "text/x-r-source",
   "name": "R",
   "pygments_lexer": "r",
   "version": "4.1.1"
  }
 },
 "nbformat": 4,
 "nbformat_minor": 5
}
