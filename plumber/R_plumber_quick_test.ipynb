{
 "cells": [
  {
   "cell_type": "markdown",
   "id": "d2abab62",
   "metadata": {},
   "source": [
    "# R Plumber Quick Test\n",
    "\n",
    "This notebook is designed to help quickly test your code with deploying it in your local directly (without docker). It's good for evaluate how your code works."
   ]
  },
  {
   "cell_type": "code",
   "execution_count": null,
   "id": "53ab54af",
   "metadata": {},
   "outputs": [],
   "source": [
    "install.packages(\"plumber\")"
   ]
  },
  {
   "cell_type": "code",
   "execution_count": null,
   "id": "c5807965",
   "metadata": {},
   "outputs": [],
   "source": [
    "library(plumber)"
   ]
  },
  {
   "cell_type": "markdown",
   "id": "f75a04f3",
   "metadata": {},
   "source": [
    "## Inference function\n",
    "the core function to be invoked from `endpoints.R` file."
   ]
  },
  {
   "cell_type": "code",
   "execution_count": null,
   "id": "ec9617ec",
   "metadata": {},
   "outputs": [],
   "source": [
    "\n",
    "inference <- function(x){\n",
    "  print(paste('input:', x))\n",
    "  output <- runif(n=1,min=0,max=10)\n",
    "  print(paste('output:', output))\n",
    "  output\n",
    "}\n"
   ]
  },
  {
   "cell_type": "markdown",
   "id": "c597ce94",
   "metadata": {},
   "source": [
    "## Local Deployment"
   ]
  },
  {
   "cell_type": "code",
   "execution_count": null,
   "id": "9aef309c",
   "metadata": {},
   "outputs": [],
   "source": [
    "app <- plumb('endpoints.R')\n",
    "app$run(host='0.0.0.0', port=8080, debug = TRUE)"
   ]
  },
  {
   "cell_type": "code",
   "execution_count": null,
   "id": "7fb8f740",
   "metadata": {},
   "outputs": [],
   "source": []
  }
 ],
 "metadata": {
  "kernelspec": {
   "display_name": "R",
   "language": "R",
   "name": "ir"
  },
  "language_info": {
   "codemirror_mode": "r",
   "file_extension": ".r",
   "mimetype": "text/x-r-source",
   "name": "R",
   "pygments_lexer": "r",
   "version": "4.1.1"
  }
 },
 "nbformat": 4,
 "nbformat_minor": 5
}
